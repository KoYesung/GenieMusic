{
  "nbformat": 4,
  "nbformat_minor": 0,
  "metadata": {
    "colab": {
      "provenance": [],
      "authorship_tag": "ABX9TyPGyPI+lrzdPxCoC51KyxKI",
      "include_colab_link": true
    },
    "kernelspec": {
      "name": "python3",
      "display_name": "Python 3"
    },
    "language_info": {
      "name": "python"
    }
  },
  "cells": [
    {
      "cell_type": "markdown",
      "metadata": {
        "id": "view-in-github",
        "colab_type": "text"
      },
      "source": [
        "<a href=\"https://colab.research.google.com/github/KoYesung/GenieMusic/blob/master/1_%ED%81%AC%EB%A1%A4%EB%A7%81_%EA%B3%BC%EC%A0%9C(%EC%A7%80%EB%8B%88%EC%B0%A8%ED%8A%B8_Top200).ipynb\" target=\"_parent\"><img src=\"https://colab.research.google.com/assets/colab-badge.svg\" alt=\"Open In Colab\"/></a>"
      ]
    },
    {
      "cell_type": "markdown",
      "source": [
        "# 과제.\n",
        "* https://www.genie.co.kr/chart/top200\n",
        "* 지니차트 200위까지 크롤링\n",
        "* 깃허브에 레퍼지토리를 만들어서 내보내기"
      ],
      "metadata": {
        "id": "8HcIVxAbLxj3"
      }
    },
    {
      "cell_type": "code",
      "source": [
        "# url의 반복문을 통하여 200위까지 크롤링\n",
        "# 수집한 데이터를 데이터 프레임으로 저장\n",
        "# 엑셀로 출력\n",
        "\n",
        "import time\n",
        "data = []\n",
        "for i in range(1, 5):\n",
        "    url = f'https://www.genie.co.kr/chart/top200?ditc=D&ymd=20230601&hh=13&rtm=Y&pg={i}'\n",
        "    header = {'User-Agent': 'Mozilla/5.0 (Windows NT 10.0; Win64; x64)'}\n",
        "    request = requests.get(url, headers=header)\n",
        "    soup = BeautifulSoup(request.text, 'html.parser')\n",
        "    table = soup.find('table', {'class':'list-wrap'})\n",
        "    titles = table.find_all('a', {'class': 'title ellipsis'})\n",
        "    artists = table.find_all('a', {'class': 'artist ellipsis'})\n",
        "\n",
        "    for j in range(len(titles)):\n",
        "        title = titles[j].text.strip()\n",
        "        artist = artists[j].text.strip()\n",
        "        # print('{0:3d}위 {1} - {2}'.format((i - 1) * 50 + j + 1, artist, title))\n",
        "        dic = {'rank': (i - 1) * 50 + j + 1, 'title': title, 'artist': artist}\n",
        "        # print(dic)\n",
        "        data.append(dic)\n",
        "    # 다음 페이지로 이동하기 전에 1초간 대기\n",
        "    time.sleep(1)"
      ],
      "metadata": {
        "id": "6i9gT1xtet0P"
      },
      "execution_count": null,
      "outputs": []
    },
    {
      "cell_type": "code",
      "source": [
        "print(data)"
      ],
      "metadata": {
        "colab": {
          "base_uri": "https://localhost:8080/"
        },
        "id": "nGISuU9V6hTn",
        "outputId": "7d553dd9-5dea-49b2-fdab-6b0c0b2537c2"
      },
      "execution_count": null,
      "outputs": [
        {
          "output_type": "stream",
          "name": "stdout",
          "text": [
            "[{'rank': 1, 'title': '퀸카 (Queencard)', 'artist': '(여자)아이들'}, {'rank': 2, 'title': 'I AM', 'artist': 'IVE (아이브)'}, {'rank': 3, 'title': 'Spicy', 'artist': 'aespa'}, {'rank': 4, 'title': 'Kitsch', 'artist': 'IVE (아이브)'}, {'rank': 5, 'title': 'UNFORGIVEN (Feat. Nile Rodgers)', 'artist': 'LE SSERAFIM (르세라핌)'}, {'rank': 6, 'title': '꽃', 'artist': '지수 (JISOO)'}, {'rank': 7, 'title': 'Hype boy', 'artist': 'NewJeans'}, {'rank': 8, 'title': 'Ditto', 'artist': 'NewJeans'}, {'rank': 9, 'title': '손오공', 'artist': '세븐틴 (SEVENTEEN)'}, {'rank': 10, 'title': '사건의 지평선', 'artist': '윤하 (YOUNHA)'}, {'rank': 11, 'title': '사랑은 늘 도망가', 'artist': '임영웅'}, {'rank': 12, 'title': 'Cupid', 'artist': 'FIFTY FIFTY'}, {'rank': 13, 'title': '심 (心)', 'artist': 'DK (디셈버)'}, {'rank': 14, 'title': \"I Don't Think That I Like Her\", 'artist': 'Charlie Puth'}, {'rank': 15, 'title': 'Teddy Bear', 'artist': 'STAYC (스테이씨)'}, {'rank': 16, 'title': '우리들의 블루스', 'artist': '임영웅'}, {'rank': 17, 'title': 'After LIKE', 'artist': 'IVE (아이브)'}, {'rank': 18, 'title': '파이팅 해야지 (Feat. 이영지)', 'artist': '부석순 (SEVENTEEN)'}, {'rank': 19, 'title': 'London Boy', 'artist': '임영웅'}, {'rank': 20, 'title': '이제 나만 믿어요', 'artist': '임영웅'}, {'rank': 21, 'title': '다시 만날 수 있을까', 'artist': '임영웅'}, {'rank': 22, 'title': 'OMG', 'artist': 'NewJeans'}, {'rank': 23, 'title': 'Dangerously', 'artist': 'Charlie Puth'}, {'rank': 24, 'title': 'Polaroid', 'artist': '임영웅'}, {'rank': 25, 'title': '무지개', 'artist': '임영웅'}, {'rank': 26, 'title': 'LOVE DIVE', 'artist': 'IVE (아이브)'}, {'rank': 27, 'title': 'CHRISTIAN', 'artist': 'Zior Park'}, {'rank': 28, 'title': 'Attention', 'artist': 'NewJeans'}, {'rank': 29, 'title': '헤어지자 말해요', 'artist': '박재정'}, {'rank': 30, 'title': '아버지', 'artist': '임영웅'}, {'rank': 31, 'title': '이브, 프시케 그리고 푸른 수염의 아내', 'artist': 'LE SSERAFIM (르세라핌)'}, {'rank': 32, 'title': 'A bientot', 'artist': '임영웅'}, {'rank': 33, 'title': '사랑해 진짜', 'artist': '임영웅'}, {'rank': 34, 'title': 'ANTIFRAGILE', 'artist': 'LE SSERAFIM (르세라핌)'}, {'rank': 35, 'title': '손이 참 곱던 그대', 'artist': '임영웅'}, {'rank': 36, 'title': '연애편지', 'artist': '임영웅'}, {'rank': 37, 'title': '건물 사이에 피어난 장미', 'artist': 'H1-KEY (하이키)'}, {'rank': 38, 'title': '인생찬가', 'artist': '임영웅'}, {'rank': 39, 'title': '보금자리', 'artist': '임영웅'}, {'rank': 40, 'title': '물론', 'artist': '허각'}, {'rank': 41, 'title': 'Heaven (2023)', 'artist': '임재현'}, {'rank': 42, 'title': '사랑인가 봐', 'artist': '멜로망스 (MeloMance)'}, {'rank': 43, 'title': 'NIGHT DANCER', 'artist': 'imase'}, {'rank': 44, 'title': '취중고백', 'artist': '김민석 (멜로망스)'}, {'rank': 45, 'title': \"That's Hilarious\", 'artist': 'Charlie Puth'}, {'rank': 46, 'title': '해요 (2022)', 'artist': '#안녕'}, {'rank': 47, 'title': 'TOMBOY', 'artist': '(여자)아이들'}, {'rank': 48, 'title': '그때 그 순간 그대로 (그그그)', 'artist': 'WSG워너비 (가야G)'}, {'rank': 49, 'title': '빛이 나는 너에게', 'artist': '던 (DAWN)'}, {'rank': 50, 'title': 'The Drum', 'artist': 'Alan Walker'}, {'rank': 51, 'title': 'Nxde', 'artist': '(여자)아이들'}, {'rank': 52, 'title': 'KNOCK', 'artist': '이채연'}, {'rank': 53, 'title': '그라데이션', 'artist': '10CM'}, {'rank': 54, 'title': '다정히 내 이름을 부르면', 'artist': '경서예지 & 전건호'}, {'rank': 55, 'title': 'Stay', 'artist': 'The Kid LAROI & Justin Bieber'}, {'rank': 56, 'title': 'Shut Down', 'artist': 'BLACKPINK'}, {'rank': 57, 'title': 'Pink Venom', 'artist': 'BLACKPINK'}, {'rank': 58, 'title': 'Monologue', 'artist': '테이 (Tei)'}, {'rank': 59, 'title': 'FEARLESS', 'artist': 'LE SSERAFIM (르세라핌)'}, {'rank': 60, 'title': '너의 모든 순간', 'artist': '성시경'}, {'rank': 61, 'title': '사랑..그게 뭔데', 'artist': '지아 (Zia)'}, {'rank': 62, 'title': '나의 바람 (Wind And Wish)', 'artist': '비투비'}, {'rank': 63, 'title': 'When I Get Old', 'artist': 'Christopher & 청하'}, {'rank': 64, 'title': '찬란한 하루', 'artist': '멜로망스 (MeloMance)'}, {'rank': 65, 'title': '새삥 (Prod. by ZICO) (Feat. 호미들)', 'artist': '지코 (ZICO)'}, {'rank': 66, 'title': '사랑하기 싫어', 'artist': '지아 (Zia)'}, {'rank': 67, 'title': 'Dynamite', 'artist': '방탄소년단'}, {'rank': 68, 'title': '나의 X에게', 'artist': '경서'}, {'rank': 69, 'title': 'Allergy', 'artist': '(여자)아이들'}, {'rank': 70, 'title': 'VIBE (Feat. Jimin of BTS)', 'artist': '태양'}, {'rank': 71, 'title': 'ELEVEN', 'artist': 'IVE (아이브)'}, {'rank': 72, 'title': '오르트구름', 'artist': '윤하 (YOUNHA)'}, {'rank': 73, 'title': 'Loving You Girl (Feat. Hkeem)', 'artist': 'Peder Elias'}, {'rank': 74, 'title': '내가 아니라도', 'artist': '주호'}, {'rank': 75, 'title': 'Dreamers (Music from the FIFA World Cup Qatar 2022 Official Soundtrack) (Feat. FIFA Sound)', 'artist': '정국 & 방탄소년단'}, {'rank': 76, 'title': '2002', 'artist': 'Anne-Marie'}, {'rank': 77, 'title': 'Thirsty', 'artist': 'aespa'}, {'rank': 78, 'title': '보고싶었어', 'artist': 'WSG워너비 (4FIRE)'}, {'rank': 79, 'title': '주저하는 연인들을 위해', 'artist': '잔나비'}, {'rank': 80, 'title': 'Butter', 'artist': '방탄소년단'}, {'rank': 81, 'title': '정이라고 하자 (Feat. 10CM)', 'artist': 'BIG Naughty (서동현)'}, {'rank': 82, 'title': '봄날', 'artist': '방탄소년단'}, {'rank': 83, 'title': '잠깐 시간 될까', 'artist': '이무진'}, {'rank': 84, 'title': '모든 날, 모든 순간 (Every day, Every Moment)', 'artist': '폴킴'}, {'rank': 85, 'title': '신호등', 'artist': '이무진'}, {'rank': 86, 'title': '라일락', 'artist': '아이유 (IU)'}, {'rank': 87, 'title': '첫 키스에 내 심장은 120BPM', 'artist': '경서'}, {'rank': 88, 'title': 'Cookie', 'artist': 'NewJeans'}, {'rank': 89, 'title': '희재', 'artist': '성시경'}, {'rank': 90, 'title': 'Off My Face', 'artist': 'Justin Bieber'}, {'rank': 91, 'title': 'Unholy', 'artist': 'Sam Smith & Kim Petras'}, {'rank': 92, 'title': '그중에 그대를 만나', 'artist': '김호중'}, {'rank': 93, 'title': 'Every Second', 'artist': 'Mina Okabe'}, {'rank': 94, 'title': 'Say I Love You', 'artist': '우디 (Woody)'}, {'rank': 95, 'title': 'NOT SORRY (Feat. pH-1) (Prod. by Slom)', 'artist': '이영지'}, {'rank': 96, 'title': '밤하늘의 별을 (2020)', 'artist': '경서'}, {'rank': 97, 'title': '밤이 무서워요 (Lonely Night)', 'artist': '주주 시크릿'}, {'rank': 98, 'title': 'Ai Wo Tsutaetaidatoka', 'artist': 'Aimyon'}, {'rank': 99, 'title': '봄여름가을겨울 (Still Life)', 'artist': 'BIGBANG (빅뱅)'}, {'rank': 100, 'title': 'Love Me Like This', 'artist': 'NMIXX'}, {'rank': 101, 'title': 'Weekend', 'artist': '태연 (TAEYEON)'}, {'rank': 102, 'title': '첫눈처럼 너에게 가겠다', 'artist': '에일리 (Ailee)'}, {'rank': 103, 'title': '딱 10CM만', 'artist': '10CM & BIG Naughty (서동현)'}, {'rank': 104, 'title': 'Next Level', 'artist': 'aespa'}, {'rank': 105, 'title': '한사람만 (2023) (여름날 우리 X 이홍기 (FT아일랜드))', 'artist': '이홍기 (FT아일랜드)'}, {'rank': 106, 'title': '상록수', 'artist': '이우'}, {'rank': 107, 'title': '에잇 (Prod. & Feat. SUGA of BTS)', 'artist': '아이유 (IU)'}, {'rank': 108, 'title': 'Candy', 'artist': 'NCT DREAM'}, {'rank': 109, 'title': 'Me You (Feat. 백예린 of 15&)', 'artist': 'San E (산이)'}, {'rank': 110, 'title': '빙글빙글 (Prod. by R.Tee)', 'artist': '헤이즈 (Heize)'}, {'rank': 111, 'title': 'Bad Habits', 'artist': 'Ed Sheeran'}, {'rank': 112, 'title': 'Rush Hour (Feat. j-hope of BTS)', 'artist': 'Crush'}, {'rank': 113, 'title': '안녕이라고 말하지마', 'artist': 'V.O.S'}, {'rank': 114, 'title': 'FRIEND THE END', 'artist': '볼빨간사춘기'}, {'rank': 115, 'title': '당신을 만나', 'artist': '김호중 & 송가인'}, {'rank': 116, 'title': '나의 목소리로', 'artist': '김호중'}, {'rank': 117, 'title': 'INVU', 'artist': '태연 (TAEYEON)'}, {'rank': 118, 'title': 'LOVE me', 'artist': \"BE'O (비오)\"}, {'rank': 119, 'title': '자격지심 (Feat. ZICO)', 'artist': \"BE'O (비오)\"}, {'rank': 120, 'title': '흔들리는 꽃들 속에서 네 샴푸향이 느껴진거야', 'artist': '장범준'}, {'rank': 121, 'title': 'Bad', 'artist': 'Christopher'}, {'rank': 122, 'title': \"That's Not How This Works (Feat. Dan ＋ Shay)\", 'artist': 'Charlie Puth'}, {'rank': 123, 'title': 'Nostalgia', 'artist': '우디 (Woody)'}, {'rank': 124, 'title': '언제나 사랑해', 'artist': '케이시 (Kassy)'}, {'rank': 125, 'title': '한강에서 (Feat. BIG Naughty)', 'artist': '폴킴'}, {'rank': 126, 'title': 'Permission to Dance', 'artist': '방탄소년단'}, {'rank': 127, 'title': 'That That (Prod. & Feat. SUGA of BTS)', 'artist': '싸이 (Psy)'}, {'rank': 128, 'title': 'Like Crazy', 'artist': '지민'}, {'rank': 129, 'title': '사랑하지 않아서 그랬어', 'artist': '임한별'}, {'rank': 130, 'title': 'Blueming', 'artist': '아이유 (IU)'}, {'rank': 131, 'title': 'Love story', 'artist': '볼빨간사춘기'}, {'rank': 132, 'title': 'At My Worst', 'artist': 'Pink Sweat$'}, {'rank': 133, 'title': \"Stronger (What Doesn't Kill You)\", 'artist': 'Kelly Clarkson'}, {'rank': 134, 'title': '오늘도 빛나는 너에게 (To You My Light) (Feat.이라온)', 'artist': '마크툽 (Maktub)'}, {'rank': 135, 'title': '내 기쁨은 너가 벤틀리를 끄는 거야', 'artist': '김승민'}, {'rank': 136, 'title': 'OHAYO MY NIGHT', 'artist': '디핵 (D-Hack) & PATEKO'}, {'rank': 137, 'title': '떠나보낼 준비해 둘걸 그랬어', 'artist': '임한별'}, {'rank': 138, 'title': 'Forever Young', 'artist': 'BLACKPINK'}, {'rank': 139, 'title': 'Celebrity', 'artist': '아이유 (IU)'}, {'rank': 140, 'title': '이 새벽에 전화하는 건', 'artist': '황인욱'}, {'rank': 141, 'title': '나보다 더 사랑해요', 'artist': '김호중'}, {'rank': 142, 'title': 'strawberry moon', 'artist': '아이유 (IU)'}, {'rank': 143, 'title': '발걸음', 'artist': 'DK (디셈버)'}, {'rank': 144, 'title': '고백', 'artist': '멜로망스 (MeloMance)'}, {'rank': 145, 'title': 'Left and Right (Feat. Jung Kook of BTS)', 'artist': 'Charlie Puth & 정국 & 방탄소년단'}, {'rank': 146, 'title': '부동의 첫사랑', 'artist': '10CM'}, {'rank': 147, 'title': '주마등', 'artist': '김호중'}, {'rank': 148, 'title': '어떻게 이별까지 사랑하겠어, 널 사랑하는 거지', 'artist': 'AKMU (악뮤)'}, {'rank': 149, 'title': 'F*ck My Life', 'artist': '세븐틴 (SEVENTEEN)'}, {'rank': 150, 'title': '모든 순간을 기억할게', 'artist': '봉훈'}, {'rank': 151, 'title': '다시 사랑한다면 (니글니글 버터플라이)', 'artist': '김필'}, {'rank': 152, 'title': '사람 Pt.2 (Feat. 아이유)', 'artist': 'Agust D'}, {'rank': 153, 'title': '빛이 나는 사람', 'artist': '김호중'}, {'rank': 154, 'title': '바라만 본다', 'artist': 'MSG워너비 (M.O.M)'}, {'rank': 155, 'title': '오래된 노래', 'artist': 'Standing Egg (스탠딩 에그)'}, {'rank': 156, 'title': '12 : 45 (Stripped)', 'artist': 'etham'}, {'rank': 157, 'title': 'Angel Pt. 1 (Feat. JVKE & Muni Long) (FAST X Soundtrack)', 'artist': '지민'}, {'rank': 158, 'title': 'Made You Look', 'artist': 'Meghan Trainor'}, {'rank': 159, 'title': '찰나가 영원이 될 때 (The Eternal Moment)', 'artist': '마크툽 (Maktub)'}, {'rank': 160, 'title': '만개 (Prod. 신지후)', 'artist': '김호중'}, {'rank': 161, 'title': '헤픈 우연', 'artist': '헤이즈 (Heize)'}, {'rank': 162, 'title': 'Yet To Come', 'artist': '방탄소년단'}, {'rank': 163, 'title': '달라달라', 'artist': 'ITZY (있지)'}, {'rank': 164, 'title': '인생은 뷰티풀', 'artist': '김호중'}, {'rank': 165, 'title': 'parachute', 'artist': 'John K'}, {'rank': 166, 'title': '한 페이지가 될 수 있게', 'artist': 'DAY6 (데이식스)'}, {'rank': 167, 'title': '예뻤어', 'artist': 'DAY6 (데이식스)'}, {'rank': 168, 'title': 'Tiny Riot', 'artist': 'Sam Ryder'}, {'rank': 169, 'title': 'Shape Of You', 'artist': 'Ed Sheeran'}, {'rank': 170, 'title': '내 손을 잡아', 'artist': '아이유 (IU)'}, {'rank': 171, 'title': 'Salty & Sweet', 'artist': 'aespa'}, {'rank': 172, 'title': '슬픈등', 'artist': '김호중'}, {'rank': 173, 'title': '그리워하다', 'artist': '비투비'}, {'rank': 174, 'title': '팡파레', 'artist': '다비치'}, {'rank': 175, 'title': 'Memories', 'artist': 'Maroon 5'}, {'rank': 176, 'title': '있잖아', 'artist': '폴킴'}, {'rank': 177, 'title': '새벽에 걸려온 너의 전화는', 'artist': '한동근'}, {'rank': 178, 'title': '약속 (約束)', 'artist': '김호중'}, {'rank': 179, 'title': '아로하', 'artist': '조정석'}, {'rank': 180, 'title': '우린 그렇게 사랑해서', 'artist': '강민경 (다비치) & 잔나비 최정훈'}, {'rank': 181, 'title': 'Il Mare Calmo Della Sera', 'artist': '김호중'}, {'rank': 182, 'title': \"I Ain't Worried\", 'artist': 'OneRepublic'}, {'rank': 183, 'title': '풍등', 'artist': '이찬원'}, {'rank': 184, 'title': 'Feel My Rhythm', 'artist': 'Red Velvet (레드벨벳)'}, {'rank': 185, 'title': '이 세상 끝까지', 'artist': '먼데이 키즈 (Monday Kiz) & #안녕'}, {'rank': 186, 'title': '회전목마 (Feat. Zion.T & 원슈타인) (Prod. by Slom)', 'artist': 'sokodomo'}, {'rank': 187, 'title': '도깨비불 (Illusion)', 'artist': 'aespa'}, {'rank': 188, 'title': '그리움의 계절', 'artist': '김호중'}, {'rank': 189, 'title': 'GHOST TOWN', 'artist': 'Benson Boone'}, {'rank': 190, 'title': 'BLUE MOON (Prod. by GroovyRoom)', 'artist': '효린 & 창모 (CHANGMO)'}, {'rank': 191, 'title': '잘가요', 'artist': '주호'}, {'rank': 192, 'title': '10,000 Hours', 'artist': 'Dan ＋ Shay & Justin Bieber'}, {'rank': 193, 'title': '거북이', 'artist': '다비치'}, {'rank': 194, 'title': 'HOT', 'artist': '세븐틴 (SEVENTEEN)'}, {'rank': 195, 'title': 'D (half moon) (Feat. 개코)', 'artist': 'DEAN'}, {'rank': 196, 'title': '사랑한다고 말해줘', 'artist': '탑현'}, {'rank': 197, 'title': '그대를 알고', 'artist': '송하예'}, {'rank': 198, 'title': 'Loving U (러빙유)', 'artist': '씨스타 (Sistar)'}, {'rank': 199, 'title': \"Don't Know What To Do\", 'artist': 'BLACKPINK'}, {'rank': 200, 'title': '사랑했나봐', 'artist': '이창섭'}]\n"
          ]
        }
      ]
    },
    {
      "cell_type": "code",
      "source": [
        "import pandas as pd"
      ],
      "metadata": {
        "id": "eDGHqdPO6i6T"
      },
      "execution_count": null,
      "outputs": []
    },
    {
      "cell_type": "code",
      "source": [
        "df = pd.DataFrame(data, index=None)\n",
        "df"
      ],
      "metadata": {
        "colab": {
          "base_uri": "https://localhost:8080/",
          "height": 424
        },
        "id": "WeqsG7r16kNb",
        "outputId": "1e623e12-ee18-4aea-8ea6-8023dab4695b"
      },
      "execution_count": null,
      "outputs": [
        {
          "output_type": "execute_result",
          "data": {
            "text/plain": [
              "     rank                            title              artist\n",
              "0       1                   퀸카 (Queencard)             (여자)아이들\n",
              "1       2                             I AM           IVE (아이브)\n",
              "2       3                            Spicy               aespa\n",
              "3       4                           Kitsch           IVE (아이브)\n",
              "4       5  UNFORGIVEN (Feat. Nile Rodgers)  LE SSERAFIM (르세라핌)\n",
              "..    ...                              ...                 ...\n",
              "195   196                        사랑한다고 말해줘                  탑현\n",
              "196   197                           그대를 알고                 송하예\n",
              "197   198                   Loving U (러빙유)        씨스타 (Sistar)\n",
              "198   199            Don't Know What To Do           BLACKPINK\n",
              "199   200                            사랑했나봐                 이창섭\n",
              "\n",
              "[200 rows x 3 columns]"
            ],
            "text/html": [
              "\n",
              "  <div id=\"df-5080315d-10ce-4d6a-9553-fcadd4c09145\">\n",
              "    <div class=\"colab-df-container\">\n",
              "      <div>\n",
              "<style scoped>\n",
              "    .dataframe tbody tr th:only-of-type {\n",
              "        vertical-align: middle;\n",
              "    }\n",
              "\n",
              "    .dataframe tbody tr th {\n",
              "        vertical-align: top;\n",
              "    }\n",
              "\n",
              "    .dataframe thead th {\n",
              "        text-align: right;\n",
              "    }\n",
              "</style>\n",
              "<table border=\"1\" class=\"dataframe\">\n",
              "  <thead>\n",
              "    <tr style=\"text-align: right;\">\n",
              "      <th></th>\n",
              "      <th>rank</th>\n",
              "      <th>title</th>\n",
              "      <th>artist</th>\n",
              "    </tr>\n",
              "  </thead>\n",
              "  <tbody>\n",
              "    <tr>\n",
              "      <th>0</th>\n",
              "      <td>1</td>\n",
              "      <td>퀸카 (Queencard)</td>\n",
              "      <td>(여자)아이들</td>\n",
              "    </tr>\n",
              "    <tr>\n",
              "      <th>1</th>\n",
              "      <td>2</td>\n",
              "      <td>I AM</td>\n",
              "      <td>IVE (아이브)</td>\n",
              "    </tr>\n",
              "    <tr>\n",
              "      <th>2</th>\n",
              "      <td>3</td>\n",
              "      <td>Spicy</td>\n",
              "      <td>aespa</td>\n",
              "    </tr>\n",
              "    <tr>\n",
              "      <th>3</th>\n",
              "      <td>4</td>\n",
              "      <td>Kitsch</td>\n",
              "      <td>IVE (아이브)</td>\n",
              "    </tr>\n",
              "    <tr>\n",
              "      <th>4</th>\n",
              "      <td>5</td>\n",
              "      <td>UNFORGIVEN (Feat. Nile Rodgers)</td>\n",
              "      <td>LE SSERAFIM (르세라핌)</td>\n",
              "    </tr>\n",
              "    <tr>\n",
              "      <th>...</th>\n",
              "      <td>...</td>\n",
              "      <td>...</td>\n",
              "      <td>...</td>\n",
              "    </tr>\n",
              "    <tr>\n",
              "      <th>195</th>\n",
              "      <td>196</td>\n",
              "      <td>사랑한다고 말해줘</td>\n",
              "      <td>탑현</td>\n",
              "    </tr>\n",
              "    <tr>\n",
              "      <th>196</th>\n",
              "      <td>197</td>\n",
              "      <td>그대를 알고</td>\n",
              "      <td>송하예</td>\n",
              "    </tr>\n",
              "    <tr>\n",
              "      <th>197</th>\n",
              "      <td>198</td>\n",
              "      <td>Loving U (러빙유)</td>\n",
              "      <td>씨스타 (Sistar)</td>\n",
              "    </tr>\n",
              "    <tr>\n",
              "      <th>198</th>\n",
              "      <td>199</td>\n",
              "      <td>Don't Know What To Do</td>\n",
              "      <td>BLACKPINK</td>\n",
              "    </tr>\n",
              "    <tr>\n",
              "      <th>199</th>\n",
              "      <td>200</td>\n",
              "      <td>사랑했나봐</td>\n",
              "      <td>이창섭</td>\n",
              "    </tr>\n",
              "  </tbody>\n",
              "</table>\n",
              "<p>200 rows × 3 columns</p>\n",
              "</div>\n",
              "      <button class=\"colab-df-convert\" onclick=\"convertToInteractive('df-5080315d-10ce-4d6a-9553-fcadd4c09145')\"\n",
              "              title=\"Convert this dataframe to an interactive table.\"\n",
              "              style=\"display:none;\">\n",
              "        \n",
              "  <svg xmlns=\"http://www.w3.org/2000/svg\" height=\"24px\"viewBox=\"0 0 24 24\"\n",
              "       width=\"24px\">\n",
              "    <path d=\"M0 0h24v24H0V0z\" fill=\"none\"/>\n",
              "    <path d=\"M18.56 5.44l.94 2.06.94-2.06 2.06-.94-2.06-.94-.94-2.06-.94 2.06-2.06.94zm-11 1L8.5 8.5l.94-2.06 2.06-.94-2.06-.94L8.5 2.5l-.94 2.06-2.06.94zm10 10l.94 2.06.94-2.06 2.06-.94-2.06-.94-.94-2.06-.94 2.06-2.06.94z\"/><path d=\"M17.41 7.96l-1.37-1.37c-.4-.4-.92-.59-1.43-.59-.52 0-1.04.2-1.43.59L10.3 9.45l-7.72 7.72c-.78.78-.78 2.05 0 2.83L4 21.41c.39.39.9.59 1.41.59.51 0 1.02-.2 1.41-.59l7.78-7.78 2.81-2.81c.8-.78.8-2.07 0-2.86zM5.41 20L4 18.59l7.72-7.72 1.47 1.35L5.41 20z\"/>\n",
              "  </svg>\n",
              "      </button>\n",
              "      \n",
              "  <style>\n",
              "    .colab-df-container {\n",
              "      display:flex;\n",
              "      flex-wrap:wrap;\n",
              "      gap: 12px;\n",
              "    }\n",
              "\n",
              "    .colab-df-convert {\n",
              "      background-color: #E8F0FE;\n",
              "      border: none;\n",
              "      border-radius: 50%;\n",
              "      cursor: pointer;\n",
              "      display: none;\n",
              "      fill: #1967D2;\n",
              "      height: 32px;\n",
              "      padding: 0 0 0 0;\n",
              "      width: 32px;\n",
              "    }\n",
              "\n",
              "    .colab-df-convert:hover {\n",
              "      background-color: #E2EBFA;\n",
              "      box-shadow: 0px 1px 2px rgba(60, 64, 67, 0.3), 0px 1px 3px 1px rgba(60, 64, 67, 0.15);\n",
              "      fill: #174EA6;\n",
              "    }\n",
              "\n",
              "    [theme=dark] .colab-df-convert {\n",
              "      background-color: #3B4455;\n",
              "      fill: #D2E3FC;\n",
              "    }\n",
              "\n",
              "    [theme=dark] .colab-df-convert:hover {\n",
              "      background-color: #434B5C;\n",
              "      box-shadow: 0px 1px 3px 1px rgba(0, 0, 0, 0.15);\n",
              "      filter: drop-shadow(0px 1px 2px rgba(0, 0, 0, 0.3));\n",
              "      fill: #FFFFFF;\n",
              "    }\n",
              "  </style>\n",
              "\n",
              "      <script>\n",
              "        const buttonEl =\n",
              "          document.querySelector('#df-5080315d-10ce-4d6a-9553-fcadd4c09145 button.colab-df-convert');\n",
              "        buttonEl.style.display =\n",
              "          google.colab.kernel.accessAllowed ? 'block' : 'none';\n",
              "\n",
              "        async function convertToInteractive(key) {\n",
              "          const element = document.querySelector('#df-5080315d-10ce-4d6a-9553-fcadd4c09145');\n",
              "          const dataTable =\n",
              "            await google.colab.kernel.invokeFunction('convertToInteractive',\n",
              "                                                     [key], {});\n",
              "          if (!dataTable) return;\n",
              "\n",
              "          const docLinkHtml = 'Like what you see? Visit the ' +\n",
              "            '<a target=\"_blank\" href=https://colab.research.google.com/notebooks/data_table.ipynb>data table notebook</a>'\n",
              "            + ' to learn more about interactive tables.';\n",
              "          element.innerHTML = '';\n",
              "          dataTable['output_type'] = 'display_data';\n",
              "          await google.colab.output.renderOutput(dataTable, element);\n",
              "          const docLink = document.createElement('div');\n",
              "          docLink.innerHTML = docLinkHtml;\n",
              "          element.appendChild(docLink);\n",
              "        }\n",
              "      </script>\n",
              "    </div>\n",
              "  </div>\n",
              "  "
            ]
          },
          "metadata": {},
          "execution_count": 82
        }
      ]
    },
    {
      "cell_type": "code",
      "source": [
        "df.to_excel('genie_chart Top200.xlsx')"
      ],
      "metadata": {
        "id": "oOip_AvQ6mPY"
      },
      "execution_count": null,
      "outputs": []
    },
    {
      "cell_type": "code",
      "source": [],
      "metadata": {
        "id": "8fBUrQz36mog"
      },
      "execution_count": null,
      "outputs": []
    }
  ]
}